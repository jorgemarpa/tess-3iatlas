{
 "cells": [
  {
   "cell_type": "code",
   "execution_count": 31,
   "id": "75e81105-d2b8-453e-80e8-d76e637069fd",
   "metadata": {
    "execution": {
     "iopub.execute_input": "2025-07-29T20:16:33.347293Z",
     "iopub.status.busy": "2025-07-29T20:16:33.346440Z",
     "iopub.status.idle": "2025-07-29T20:16:33.378655Z",
     "shell.execute_reply": "2025-07-29T20:16:33.378167Z",
     "shell.execute_reply.started": "2025-07-29T20:16:33.347222Z"
    }
   },
   "outputs": [],
   "source": [
    "from tesswcs.locate import check_observability\n",
    "from tess_ephem.ephem import _get_horizons_ephem\n",
    "from astropy.time import Time\n",
    "from astropy.coordinates import SkyCoord\n",
    "import astropy.units as u\n",
    "import datetime\n",
    "import numpy as np\n",
    "import matplotlib.pyplot as plt"
   ]
  },
  {
   "cell_type": "code",
   "execution_count": 8,
   "id": "28932435-371b-471d-9657-ddec3fe82585",
   "metadata": {
    "execution": {
     "iopub.execute_input": "2025-07-29T20:04:16.302986Z",
     "iopub.status.busy": "2025-07-29T20:04:16.302192Z",
     "iopub.status.idle": "2025-07-29T20:04:16.332351Z",
     "shell.execute_reply": "2025-07-29T20:04:16.331870Z",
     "shell.execute_reply.started": "2025-07-29T20:04:16.302914Z"
    }
   },
   "outputs": [
    {
     "data": {
      "text/plain": [
       "'2025-07-29'"
      ]
     },
     "execution_count": 8,
     "metadata": {},
     "output_type": "execute_result"
    }
   ],
   "source": [
    "datetime.datetime.today().strftime(\"%Y-%m-%d\")"
   ]
  },
  {
   "cell_type": "code",
   "execution_count": 70,
   "id": "d7c0107f-54fd-4aac-ac08-719efe9c859a",
   "metadata": {
    "execution": {
     "iopub.execute_input": "2025-07-29T20:31:21.004568Z",
     "iopub.status.busy": "2025-07-29T20:31:21.004438Z",
     "iopub.status.idle": "2025-07-29T20:31:21.024142Z",
     "shell.execute_reply": "2025-07-29T20:31:21.023849Z",
     "shell.execute_reply.started": "2025-07-29T20:31:21.004555Z"
    }
   },
   "outputs": [
    {
     "data": {
      "text/plain": [
       "<Time object: scale='utc' format='iso' value=2026-07-29 00:00:00.000>"
      ]
     },
     "execution_count": 70,
     "metadata": {},
     "output_type": "execute_result"
    }
   ],
   "source": [
    "tstart = Time(datetime.datetime.today().strftime(\"%Y-%m-%d\"), scale=\"utc\", format=\"iso\")\n",
    "tstop = tstart + 365 * u.d\n",
    "tstop"
   ]
  },
  {
   "cell_type": "code",
   "execution_count": 62,
   "id": "1a2d9ea8-6891-4c37-a78f-f1be2c0fd9d6",
   "metadata": {
    "execution": {
     "iopub.execute_input": "2025-07-29T20:30:20.385967Z",
     "iopub.status.busy": "2025-07-29T20:30:20.385411Z",
     "iopub.status.idle": "2025-07-29T20:30:21.700899Z",
     "shell.execute_reply": "2025-07-29T20:30:21.700419Z",
     "shell.execute_reply.started": "2025-07-29T20:30:20.385919Z"
    }
   },
   "outputs": [],
   "source": [
    "ephem = _get_horizons_ephem(\"C/2025 N1\", start=tstart, stop=tstop, step=\"6H\")"
   ]
  },
  {
   "cell_type": "code",
   "execution_count": 63,
   "id": "5e5c03d3-e623-4837-8a23-b461e597444d",
   "metadata": {
    "execution": {
     "iopub.execute_input": "2025-07-29T20:30:21.991310Z",
     "iopub.status.busy": "2025-07-29T20:30:21.991226Z",
     "iopub.status.idle": "2025-07-29T20:30:22.002710Z",
     "shell.execute_reply": "2025-07-29T20:30:22.002459Z",
     "shell.execute_reply.started": "2025-07-29T20:30:21.991302Z"
    }
   },
   "outputs": [
    {
     "data": {
      "text/html": [
       "<div><i>Table masked=True length=1461</i>\n",
       "<table id=\"table13894366160\" class=\"table-striped table-bordered table-condensed\">\n",
       "<thead><tr><th>targetname</th><th>datetime_str</th><th>datetime_jd</th><th>M1</th><th>solar_presence</th><th>k1</th><th>interfering_body</th><th>RA</th><th>DEC</th><th>RA_rate</th><th>DEC_rate</th><th>Tmag</th><th>Nmag</th><th>r</th><th>r_rate</th><th>delta</th><th>delta_rate</th><th>TDB-UT</th><th>alpha_true</th><th>PABLon</th><th>PABLat</th></tr></thead>\n",
       "<thead><tr><th>---</th><th>---</th><th>d</th><th>mag</th><th>---</th><th>---</th><th>---</th><th>deg</th><th>deg</th><th>arcsec / h</th><th>arcsec / h</th><th>mag</th><th>mag</th><th>AU</th><th>km / s</th><th>AU</th><th>km / s</th><th>s</th><th>deg</th><th>deg</th><th>deg</th></tr></thead>\n",
       "<thead><tr><th>str17</th><th>str17</th><th>float64</th><th>float64</th><th>str1</th><th>float64</th><th>str1</th><th>float64</th><th>float64</th><th>float64</th><th>float64</th><th>float64</th><th>int64</th><th>float64</th><th>float64</th><th>float64</th><th>float64</th><th>float64</th><th>float64</th><th>float64</th><th>float64</th></tr></thead>\n",
       "<tr><td>ATLAS (C/2025 N1)</td><td>2025-Jul-29 00:00</td><td>2460885.5</td><td>12.3</td><td></td><td>4.5</td><td></td><td>254.93217</td><td>-17.70128</td><td>-98.2363</td><td>11.02787</td><td>17.075</td><td>--</td><td>3.58996509623</td><td>-56.4764404</td><td>2.85439674738549</td><td>-26.9329621</td><td>69.183371</td><td>12.594</td><td>261.9051</td><td>4.4986</td></tr>\n",
       "<tr><td>...</td><td>...</td><td>...</td><td>...</td><td>...</td><td>...</td><td>...</td><td>...</td><td>...</td><td>...</td><td>...</td><td>...</td><td>...</td><td>...</td><td>...</td><td>...</td><td>...</td><td>...</td><td>...</td><td>...</td><td>...</td></tr>\n",
       "<tr><td>ATLAS (C/2025 N1)</td><td>2026-Jul-29 00:00</td><td>2461250.5</td><td>12.3</td><td></td><td>4.5</td><td></td><td>107.32473</td><td>19.75015</td><td>7.335695</td><td>-1.21905</td><td>21.86</td><td>--</td><td>9.655207797932</td><td>58.780416</td><td>10.6075621061076</td><td>49.5553825</td><td>69.183366</td><td>1.9945</td><td>105.3057</td><td>-2.8483</td></tr>\n",
       "</table></div>"
      ],
      "text/plain": [
       "<Table masked=True length=1461>\n",
       "    targetname       datetime_str   datetime_jd    M1   solar_presence ...  delta_rate   TDB-UT  alpha_true  PABLon   PABLat\n",
       "       ---               ---             d        mag        ---       ...    km / s       s        deg       deg      deg  \n",
       "      str17             str17         float64   float64      str1      ...   float64    float64   float64   float64  float64\n",
       "----------------- ----------------- ----------- ------- -------------- ... ----------- --------- ---------- -------- -------\n",
       "ATLAS (C/2025 N1) 2025-Jul-29 00:00   2460885.5    12.3                ... -26.9329621 69.183371     12.594 261.9051  4.4986\n",
       "              ...               ...         ...     ...            ... ...         ...       ...        ...      ...     ...\n",
       "ATLAS (C/2025 N1) 2026-Jul-29 00:00   2461250.5    12.3                ...  49.5553825 69.183366     1.9945 105.3057 -2.8483"
      ]
     },
     "execution_count": 63,
     "metadata": {},
     "output_type": "execute_result"
    }
   ],
   "source": [
    "ephem"
   ]
  },
  {
   "cell_type": "code",
   "execution_count": 79,
   "id": "832ab7ff-bfda-4424-b21a-ab9e47f8e423",
   "metadata": {
    "execution": {
     "iopub.execute_input": "2025-07-29T20:40:56.120905Z",
     "iopub.status.busy": "2025-07-29T20:40:56.120785Z",
     "iopub.status.idle": "2025-07-29T20:40:56.138281Z",
     "shell.execute_reply": "2025-07-29T20:40:56.138032Z",
     "shell.execute_reply.started": "2025-07-29T20:40:56.120892Z"
    }
   },
   "outputs": [
    {
     "data": {
      "text/html": [
       "&lt;MaskedColumn name=&apos;RA&apos; dtype=&apos;float64&apos; unit=&apos;deg&apos; length=1461&gt;\n",
       "<table>\n",
       "<tr><td>254.93217</td></tr>\n",
       "<tr><td>254.76024</td></tr>\n",
       "<tr><td>254.58822</td></tr>\n",
       "<tr><td>254.41613</td></tr>\n",
       "<tr><td>...</td></tr>\n",
       "<tr><td>107.29885</td></tr>\n",
       "<tr><td>107.31177</td></tr>\n",
       "<tr><td>107.32473</td></tr>\n",
       "</table>"
      ],
      "text/plain": [
       "<MaskedColumn name='RA' dtype='float64' unit='deg' length=1461>\n",
       "254.93217\n",
       "254.76024\n",
       "254.58822\n",
       "254.41613\n",
       "      ...\n",
       "107.29885\n",
       "107.31177\n",
       "107.32473"
      ]
     },
     "execution_count": 79,
     "metadata": {},
     "output_type": "execute_result"
    }
   ],
   "source": [
    "ephem[\"RA\"]"
   ]
  },
  {
   "cell_type": "code",
   "execution_count": 65,
   "id": "2ec86d15-a3ed-40f1-8313-560ea305997e",
   "metadata": {
    "execution": {
     "iopub.execute_input": "2025-07-29T20:30:28.916908Z",
     "iopub.status.busy": "2025-07-29T20:30:28.916390Z",
     "iopub.status.idle": "2025-07-29T20:30:28.944347Z",
     "shell.execute_reply": "2025-07-29T20:30:28.943968Z",
     "shell.execute_reply.started": "2025-07-29T20:30:28.916861Z"
    }
   },
   "outputs": [],
   "source": [
    "coords = SkyCoord(ephem[\"RA\"], ephem[\"DEC\"])"
   ]
  },
  {
   "cell_type": "code",
   "execution_count": 83,
   "id": "eca1b760-948e-4370-b0fa-3a20e7980001",
   "metadata": {
    "execution": {
     "iopub.execute_input": "2025-07-29T20:41:38.782095Z",
     "iopub.status.busy": "2025-07-29T20:41:38.781905Z",
     "iopub.status.idle": "2025-07-29T20:41:38.794838Z",
     "shell.execute_reply": "2025-07-29T20:41:38.794533Z",
     "shell.execute_reply.started": "2025-07-29T20:41:38.782079Z"
    }
   },
   "outputs": [
    {
     "data": {
      "text/plain": [
       "array([16.995478  , 16.984016  , 16.972548  , ...,  7.15325667,\n",
       "        7.154118  ,  7.154982  ])"
      ]
     },
     "execution_count": 83,
     "metadata": {},
     "output_type": "execute_result"
    }
   ],
   "source": [
    "coords.ra.hour"
   ]
  },
  {
   "cell_type": "code",
   "execution_count": 84,
   "id": "a95e3247-edbf-413b-879b-9ad2b949b746",
   "metadata": {
    "execution": {
     "iopub.execute_input": "2025-07-29T20:41:50.636603Z",
     "iopub.status.busy": "2025-07-29T20:41:50.636510Z",
     "iopub.status.idle": "2025-07-29T20:41:50.654685Z",
     "shell.execute_reply": "2025-07-29T20:41:50.654390Z",
     "shell.execute_reply.started": "2025-07-29T20:41:50.636595Z"
    }
   },
   "outputs": [
    {
     "data": {
      "text/plain": [
       "array([-17.70128, -17.68288, -17.66446, ...,  19.75421,  19.75218,\n",
       "        19.75015])"
      ]
     },
     "execution_count": 84,
     "metadata": {},
     "output_type": "execute_result"
    }
   ],
   "source": []
  },
  {
   "cell_type": "code",
   "execution_count": 99,
   "id": "229fceb2-0b8e-444e-ba16-bd0cfe916e10",
   "metadata": {
    "execution": {
     "iopub.execute_input": "2025-07-29T20:44:59.975562Z",
     "iopub.status.busy": "2025-07-29T20:44:59.974976Z",
     "iopub.status.idle": "2025-07-29T20:45:00.088237Z",
     "shell.execute_reply": "2025-07-29T20:45:00.087917Z",
     "shell.execute_reply.started": "2025-07-29T20:44:59.975512Z"
    }
   },
   "outputs": [
    {
     "data": {
      "image/png": "[encoded data removed]",
      "text/plain": [
       "<Figure size 800x600 with 2 Axes>"
      ]
     },
     "metadata": {},
     "output_type": "display_data"
    }
   ],
   "source": [
    "fig = plt.figure(figsize=(8, 6))\n",
    "ax = fig.add_subplot(111, projection=\"aitoff\")\n",
    "ax.set_title(\"C/2025 N1 Sky positions next year\", y=1.2)\n",
    "bar = ax.scatter(coords.ra.hour, coords.dec.deg, c=ephem[\"datetime_jd\"]-ephem[\"datetime_jd\"][0], s=4, cmap=\"viridis_r\")\n",
    "plt.colorbar(bar, label=\"Time from today [jd]\", ax=ax)\n",
    "ax.set_xlabel(\"R.A.\")\n",
    "ax.set_ylabel(\"Dec.\")\n",
    "plt.show()"
   ]
  },
  {
   "cell_type": "code",
   "execution_count": 66,
   "id": "d2853d1c-77d7-4c26-8366-7d6768748745",
   "metadata": {
    "execution": {
     "iopub.execute_input": "2025-07-29T20:30:29.897948Z",
     "iopub.status.busy": "2025-07-29T20:30:29.897035Z",
     "iopub.status.idle": "2025-07-29T20:30:32.561671Z",
     "shell.execute_reply": "2025-07-29T20:30:32.561032Z",
     "shell.execute_reply.started": "2025-07-29T20:30:29.897876Z"
    },
    "scrolled": true
   },
   "outputs": [
    {
     "name": "stderr",
     "output_type": "stream",
     "text": [
      "Data for Sector 95 has not been archived yet. This function will return the predicted WCS for Sector 95.\n",
      "Data for Sector 95 has not been archived yet. This function will return the predicted WCS for Sector 95.\n",
      "Data for Sector 95 has not been archived yet. This function will return the predicted WCS for Sector 95.\n",
      "Data for Sector 95 has not been archived yet. This function will return the predicted WCS for Sector 95.\n",
      "Data for Sector 95 has not been archived yet. This function will return the predicted WCS for Sector 95.\n",
      "Data for Sector 95 has not been archived yet. This function will return the predicted WCS for Sector 95.\n",
      "Data for Sector 95 has not been archived yet. This function will return the predicted WCS for Sector 95.\n",
      "Data for Sector 95 has not been archived yet. This function will return the predicted WCS for Sector 95.\n",
      "Data for Sector 95 has not been archived yet. This function will return the predicted WCS for Sector 95.\n",
      "Data for Sector 95 has not been archived yet. This function will return the predicted WCS for Sector 95.\n",
      "Data for Sector 95 has not been archived yet. This function will return the predicted WCS for Sector 95.\n",
      "Data for Sector 95 has not been archived yet. This function will return the predicted WCS for Sector 95.\n",
      "Data for Sector 95 has not been archived yet. This function will return the predicted WCS for Sector 95.\n",
      "Data for Sector 95 has not been archived yet. This function will return the predicted WCS for Sector 95.\n",
      "Data for Sector 95 has not been archived yet. This function will return the predicted WCS for Sector 95.\n",
      "Data for Sector 95 has not been archived yet. This function will return the predicted WCS for Sector 95.\n",
      "Data for Sector 96 has not been archived yet. This function will return the predicted WCS for Sector 96.\n",
      "Data for Sector 96 has not been archived yet. This function will return the predicted WCS for Sector 96.\n",
      "Data for Sector 96 has not been archived yet. This function will return the predicted WCS for Sector 96.\n",
      "Data for Sector 96 has not been archived yet. This function will return the predicted WCS for Sector 96.\n",
      "Data for Sector 96 has not been archived yet. This function will return the predicted WCS for Sector 96.\n",
      "Data for Sector 96 has not been archived yet. This function will return the predicted WCS for Sector 96.\n",
      "Data for Sector 96 has not been archived yet. This function will return the predicted WCS for Sector 96.\n",
      "Data for Sector 96 has not been archived yet. This function will return the predicted WCS for Sector 96.\n",
      "Data for Sector 96 has not been archived yet. This function will return the predicted WCS for Sector 96.\n",
      "Data for Sector 96 has not been archived yet. This function will return the predicted WCS for Sector 96.\n",
      "Data for Sector 96 has not been archived yet. This function will return the predicted WCS for Sector 96.\n",
      "Data for Sector 96 has not been archived yet. This function will return the predicted WCS for Sector 96.\n",
      "Data for Sector 96 has not been archived yet. This function will return the predicted WCS for Sector 96.\n",
      "Data for Sector 96 has not been archived yet. This function will return the predicted WCS for Sector 96.\n",
      "Data for Sector 96 has not been archived yet. This function will return the predicted WCS for Sector 96.\n",
      "Data for Sector 96 has not been archived yet. This function will return the predicted WCS for Sector 96.\n",
      "Data for Sector 97 has not been archived yet. This function will return the predicted WCS for Sector 97.\n",
      "Data for Sector 97 has not been archived yet. This function will return the predicted WCS for Sector 97.\n",
      "Data for Sector 97 has not been archived yet. This function will return the predicted WCS for Sector 97.\n",
      "Data for Sector 97 has not been archived yet. This function will return the predicted WCS for Sector 97.\n",
      "Data for Sector 97 has not been archived yet. This function will return the predicted WCS for Sector 97.\n",
      "Data for Sector 97 has not been archived yet. This function will return the predicted WCS for Sector 97.\n",
      "Data for Sector 97 has not been archived yet. This function will return the predicted WCS for Sector 97.\n",
      "Data for Sector 97 has not been archived yet. This function will return the predicted WCS for Sector 97.\n",
      "Data for Sector 97 has not been archived yet. This function will return the predicted WCS for Sector 97.\n",
      "Data for Sector 97 has not been archived yet. This function will return the predicted WCS for Sector 97.\n",
      "Data for Sector 97 has not been archived yet. This function will return the predicted WCS for Sector 97.\n",
      "Data for Sector 97 has not been archived yet. This function will return the predicted WCS for Sector 97.\n",
      "Data for Sector 97 has not been archived yet. This function will return the predicted WCS for Sector 97.\n",
      "Data for Sector 97 has not been archived yet. This function will return the predicted WCS for Sector 97.\n",
      "Data for Sector 97 has not been archived yet. This function will return the predicted WCS for Sector 97.\n",
      "Data for Sector 97 has not been archived yet. This function will return the predicted WCS for Sector 97.\n",
      "Data for Sector 98 has not been archived yet. This function will return the predicted WCS for Sector 98.\n",
      "Data for Sector 98 has not been archived yet. This function will return the predicted WCS for Sector 98.\n",
      "Data for Sector 98 has not been archived yet. This function will return the predicted WCS for Sector 98.\n",
      "Data for Sector 98 has not been archived yet. This function will return the predicted WCS for Sector 98.\n",
      "Data for Sector 98 has not been archived yet. This function will return the predicted WCS for Sector 98.\n",
      "Data for Sector 98 has not been archived yet. This function will return the predicted WCS for Sector 98.\n",
      "Data for Sector 98 has not been archived yet. This function will return the predicted WCS for Sector 98.\n",
      "Data for Sector 98 has not been archived yet. This function will return the predicted WCS for Sector 98.\n",
      "Data for Sector 98 has not been archived yet. This function will return the predicted WCS for Sector 98.\n",
      "Data for Sector 98 has not been archived yet. This function will return the predicted WCS for Sector 98.\n",
      "Data for Sector 98 has not been archived yet. This function will return the predicted WCS for Sector 98.\n",
      "Data for Sector 98 has not been archived yet. This function will return the predicted WCS for Sector 98.\n",
      "Data for Sector 98 has not been archived yet. This function will return the predicted WCS for Sector 98.\n",
      "Data for Sector 98 has not been archived yet. This function will return the predicted WCS for Sector 98.\n",
      "Data for Sector 98 has not been archived yet. This function will return the predicted WCS for Sector 98.\n",
      "Data for Sector 98 has not been archived yet. This function will return the predicted WCS for Sector 98.\n",
      "Data for Sector 99 has not been archived yet. This function will return the predicted WCS for Sector 99.\n",
      "Data for Sector 99 has not been archived yet. This function will return the predicted WCS for Sector 99.\n",
      "Data for Sector 99 has not been archived yet. This function will return the predicted WCS for Sector 99.\n",
      "Data for Sector 99 has not been archived yet. This function will return the predicted WCS for Sector 99.\n",
      "Data for Sector 99 has not been archived yet. This function will return the predicted WCS for Sector 99.\n",
      "Data for Sector 99 has not been archived yet. This function will return the predicted WCS for Sector 99.\n",
      "Data for Sector 99 has not been archived yet. This function will return the predicted WCS for Sector 99.\n",
      "Data for Sector 99 has not been archived yet. This function will return the predicted WCS for Sector 99.\n",
      "Data for Sector 99 has not been archived yet. This function will return the predicted WCS for Sector 99.\n",
      "Data for Sector 99 has not been archived yet. This function will return the predicted WCS for Sector 99.\n",
      "Data for Sector 99 has not been archived yet. This function will return the predicted WCS for Sector 99.\n",
      "Data for Sector 99 has not been archived yet. This function will return the predicted WCS for Sector 99.\n",
      "Data for Sector 99 has not been archived yet. This function will return the predicted WCS for Sector 99.\n",
      "Data for Sector 99 has not been archived yet. This function will return the predicted WCS for Sector 99.\n",
      "Data for Sector 99 has not been archived yet. This function will return the predicted WCS for Sector 99.\n",
      "Data for Sector 99 has not been archived yet. This function will return the predicted WCS for Sector 99.\n",
      "Data for Sector 100 has not been archived yet. This function will return the predicted WCS for Sector 100.\n",
      "Data for Sector 100 has not been archived yet. This function will return the predicted WCS for Sector 100.\n",
      "Data for Sector 100 has not been archived yet. This function will return the predicted WCS for Sector 100.\n",
      "Data for Sector 100 has not been archived yet. This function will return the predicted WCS for Sector 100.\n",
      "Data for Sector 100 has not been archived yet. This function will return the predicted WCS for Sector 100.\n",
      "Data for Sector 100 has not been archived yet. This function will return the predicted WCS for Sector 100.\n",
      "Data for Sector 100 has not been archived yet. This function will return the predicted WCS for Sector 100.\n",
      "Data for Sector 100 has not been archived yet. This function will return the predicted WCS for Sector 100.\n",
      "Data for Sector 100 has not been archived yet. This function will return the predicted WCS for Sector 100.\n",
      "Data for Sector 100 has not been archived yet. This function will return the predicted WCS for Sector 100.\n",
      "Data for Sector 100 has not been archived yet. This function will return the predicted WCS for Sector 100.\n",
      "Data for Sector 100 has not been archived yet. This function will return the predicted WCS for Sector 100.\n",
      "Data for Sector 100 has not been archived yet. This function will return the predicted WCS for Sector 100.\n",
      "Data for Sector 100 has not been archived yet. This function will return the predicted WCS for Sector 100.\n",
      "Data for Sector 100 has not been archived yet. This function will return the predicted WCS for Sector 100.\n",
      "Data for Sector 100 has not been archived yet. This function will return the predicted WCS for Sector 100.\n",
      "Data for Sector 101 has not been archived yet. This function will return the predicted WCS for Sector 101.\n",
      "Data for Sector 101 has not been archived yet. This function will return the predicted WCS for Sector 101.\n",
      "Data for Sector 101 has not been archived yet. This function will return the predicted WCS for Sector 101.\n",
      "Data for Sector 101 has not been archived yet. This function will return the predicted WCS for Sector 101.\n",
      "Data for Sector 101 has not been archived yet. This function will return the predicted WCS for Sector 101.\n",
      "Data for Sector 101 has not been archived yet. This function will return the predicted WCS for Sector 101.\n",
      "Data for Sector 101 has not been archived yet. This function will return the predicted WCS for Sector 101.\n",
      "Data for Sector 101 has not been archived yet. This function will return the predicted WCS for Sector 101.\n",
      "Data for Sector 101 has not been archived yet. This function will return the predicted WCS for Sector 101.\n",
      "Data for Sector 101 has not been archived yet. This function will return the predicted WCS for Sector 101.\n",
      "Data for Sector 101 has not been archived yet. This function will return the predicted WCS for Sector 101.\n",
      "Data for Sector 101 has not been archived yet. This function will return the predicted WCS for Sector 101.\n",
      "Data for Sector 101 has not been archived yet. This function will return the predicted WCS for Sector 101.\n",
      "Data for Sector 101 has not been archived yet. This function will return the predicted WCS for Sector 101.\n",
      "Data for Sector 101 has not been archived yet. This function will return the predicted WCS for Sector 101.\n",
      "Data for Sector 101 has not been archived yet. This function will return the predicted WCS for Sector 101.\n",
      "Data for Sector 102 has not been archived yet. This function will return the predicted WCS for Sector 102.\n",
      "Data for Sector 102 has not been archived yet. This function will return the predicted WCS for Sector 102.\n",
      "Data for Sector 102 has not been archived yet. This function will return the predicted WCS for Sector 102.\n",
      "Data for Sector 102 has not been archived yet. This function will return the predicted WCS for Sector 102.\n",
      "Data for Sector 102 has not been archived yet. This function will return the predicted WCS for Sector 102.\n",
      "Data for Sector 102 has not been archived yet. This function will return the predicted WCS for Sector 102.\n",
      "Data for Sector 102 has not been archived yet. This function will return the predicted WCS for Sector 102.\n",
      "Data for Sector 102 has not been archived yet. This function will return the predicted WCS for Sector 102.\n",
      "Data for Sector 102 has not been archived yet. This function will return the predicted WCS for Sector 102.\n",
      "Data for Sector 102 has not been archived yet. This function will return the predicted WCS for Sector 102.\n",
      "Data for Sector 102 has not been archived yet. This function will return the predicted WCS for Sector 102.\n",
      "Data for Sector 102 has not been archived yet. This function will return the predicted WCS for Sector 102.\n",
      "Data for Sector 102 has not been archived yet. This function will return the predicted WCS for Sector 102.\n",
      "Data for Sector 102 has not been archived yet. This function will return the predicted WCS for Sector 102.\n",
      "Data for Sector 102 has not been archived yet. This function will return the predicted WCS for Sector 102.\n",
      "Data for Sector 102 has not been archived yet. This function will return the predicted WCS for Sector 102.\n",
      "Data for Sector 103 has not been archived yet. This function will return the predicted WCS for Sector 103.\n",
      "Data for Sector 103 has not been archived yet. This function will return the predicted WCS for Sector 103.\n",
      "Data for Sector 103 has not been archived yet. This function will return the predicted WCS for Sector 103.\n",
      "Data for Sector 103 has not been archived yet. This function will return the predicted WCS for Sector 103.\n",
      "Data for Sector 103 has not been archived yet. This function will return the predicted WCS for Sector 103.\n",
      "Data for Sector 103 has not been archived yet. This function will return the predicted WCS for Sector 103.\n",
      "Data for Sector 103 has not been archived yet. This function will return the predicted WCS for Sector 103.\n",
      "Data for Sector 103 has not been archived yet. This function will return the predicted WCS for Sector 103.\n",
      "Data for Sector 103 has not been archived yet. This function will return the predicted WCS for Sector 103.\n",
      "Data for Sector 103 has not been archived yet. This function will return the predicted WCS for Sector 103.\n",
      "Data for Sector 103 has not been archived yet. This function will return the predicted WCS for Sector 103.\n",
      "Data for Sector 103 has not been archived yet. This function will return the predicted WCS for Sector 103.\n",
      "Data for Sector 103 has not been archived yet. This function will return the predicted WCS for Sector 103.\n",
      "Data for Sector 103 has not been archived yet. This function will return the predicted WCS for Sector 103.\n",
      "Data for Sector 103 has not been archived yet. This function will return the predicted WCS for Sector 103.\n",
      "Data for Sector 103 has not been archived yet. This function will return the predicted WCS for Sector 103.\n",
      "Data for Sector 104 has not been archived yet. This function will return the predicted WCS for Sector 104.\n",
      "Data for Sector 104 has not been archived yet. This function will return the predicted WCS for Sector 104.\n",
      "Data for Sector 104 has not been archived yet. This function will return the predicted WCS for Sector 104.\n",
      "Data for Sector 104 has not been archived yet. This function will return the predicted WCS for Sector 104.\n",
      "Data for Sector 104 has not been archived yet. This function will return the predicted WCS for Sector 104.\n",
      "Data for Sector 104 has not been archived yet. This function will return the predicted WCS for Sector 104.\n",
      "Data for Sector 104 has not been archived yet. This function will return the predicted WCS for Sector 104.\n",
      "Data for Sector 104 has not been archived yet. This function will return the predicted WCS for Sector 104.\n",
      "Data for Sector 104 has not been archived yet. This function will return the predicted WCS for Sector 104.\n",
      "Data for Sector 104 has not been archived yet. This function will return the predicted WCS for Sector 104.\n",
      "Data for Sector 104 has not been archived yet. This function will return the predicted WCS for Sector 104.\n",
      "Data for Sector 104 has not been archived yet. This function will return the predicted WCS for Sector 104.\n",
      "Data for Sector 104 has not been archived yet. This function will return the predicted WCS for Sector 104.\n",
      "Data for Sector 104 has not been archived yet. This function will return the predicted WCS for Sector 104.\n",
      "Data for Sector 104 has not been archived yet. This function will return the predicted WCS for Sector 104.\n",
      "Data for Sector 104 has not been archived yet. This function will return the predicted WCS for Sector 104.\n",
      "Data for Sector 105 has not been archived yet. This function will return the predicted WCS for Sector 105.\n",
      "Data for Sector 105 has not been archived yet. This function will return the predicted WCS for Sector 105.\n",
      "Data for Sector 105 has not been archived yet. This function will return the predicted WCS for Sector 105.\n",
      "Data for Sector 105 has not been archived yet. This function will return the predicted WCS for Sector 105.\n",
      "Data for Sector 105 has not been archived yet. This function will return the predicted WCS for Sector 105.\n",
      "Data for Sector 105 has not been archived yet. This function will return the predicted WCS for Sector 105.\n",
      "Data for Sector 105 has not been archived yet. This function will return the predicted WCS for Sector 105.\n",
      "Data for Sector 105 has not been archived yet. This function will return the predicted WCS for Sector 105.\n",
      "Data for Sector 105 has not been archived yet. This function will return the predicted WCS for Sector 105.\n",
      "Data for Sector 105 has not been archived yet. This function will return the predicted WCS for Sector 105.\n",
      "Data for Sector 105 has not been archived yet. This function will return the predicted WCS for Sector 105.\n",
      "Data for Sector 105 has not been archived yet. This function will return the predicted WCS for Sector 105.\n",
      "Data for Sector 105 has not been archived yet. This function will return the predicted WCS for Sector 105.\n",
      "Data for Sector 105 has not been archived yet. This function will return the predicted WCS for Sector 105.\n",
      "Data for Sector 105 has not been archived yet. This function will return the predicted WCS for Sector 105.\n",
      "Data for Sector 105 has not been archived yet. This function will return the predicted WCS for Sector 105.\n",
      "Data for Sector 106 has not been archived yet. This function will return the predicted WCS for Sector 106.\n",
      "Data for Sector 106 has not been archived yet. This function will return the predicted WCS for Sector 106.\n",
      "Data for Sector 106 has not been archived yet. This function will return the predicted WCS for Sector 106.\n",
      "Data for Sector 106 has not been archived yet. This function will return the predicted WCS for Sector 106.\n",
      "Data for Sector 106 has not been archived yet. This function will return the predicted WCS for Sector 106.\n",
      "Data for Sector 106 has not been archived yet. This function will return the predicted WCS for Sector 106.\n",
      "Data for Sector 106 has not been archived yet. This function will return the predicted WCS for Sector 106.\n",
      "Data for Sector 106 has not been archived yet. This function will return the predicted WCS for Sector 106.\n",
      "Data for Sector 106 has not been archived yet. This function will return the predicted WCS for Sector 106.\n",
      "Data for Sector 106 has not been archived yet. This function will return the predicted WCS for Sector 106.\n",
      "Data for Sector 106 has not been archived yet. This function will return the predicted WCS for Sector 106.\n",
      "Data for Sector 106 has not been archived yet. This function will return the predicted WCS for Sector 106.\n",
      "Data for Sector 106 has not been archived yet. This function will return the predicted WCS for Sector 106.\n",
      "Data for Sector 106 has not been archived yet. This function will return the predicted WCS for Sector 106.\n",
      "Data for Sector 106 has not been archived yet. This function will return the predicted WCS for Sector 106.\n",
      "Data for Sector 106 has not been archived yet. This function will return the predicted WCS for Sector 106.\n",
      "Data for Sector 107 has not been archived yet. This function will return the predicted WCS for Sector 107.\n",
      "Data for Sector 107 has not been archived yet. This function will return the predicted WCS for Sector 107.\n",
      "Data for Sector 107 has not been archived yet. This function will return the predicted WCS for Sector 107.\n",
      "Data for Sector 107 has not been archived yet. This function will return the predicted WCS for Sector 107.\n",
      "Data for Sector 107 has not been archived yet. This function will return the predicted WCS for Sector 107.\n",
      "Data for Sector 107 has not been archived yet. This function will return the predicted WCS for Sector 107.\n",
      "Data for Sector 107 has not been archived yet. This function will return the predicted WCS for Sector 107.\n",
      "Data for Sector 107 has not been archived yet. This function will return the predicted WCS for Sector 107.\n",
      "Data for Sector 107 has not been archived yet. This function will return the predicted WCS for Sector 107.\n",
      "Data for Sector 107 has not been archived yet. This function will return the predicted WCS for Sector 107.\n",
      "Data for Sector 107 has not been archived yet. This function will return the predicted WCS for Sector 107.\n",
      "Data for Sector 107 has not been archived yet. This function will return the predicted WCS for Sector 107.\n",
      "Data for Sector 107 has not been archived yet. This function will return the predicted WCS for Sector 107.\n",
      "Data for Sector 107 has not been archived yet. This function will return the predicted WCS for Sector 107.\n",
      "Data for Sector 107 has not been archived yet. This function will return the predicted WCS for Sector 107.\n",
      "Data for Sector 107 has not been archived yet. This function will return the predicted WCS for Sector 107.\n"
     ]
    }
   ],
   "source": [
    "tess_obs = check_observability(coords).to_pandas()"
   ]
  },
  {
   "cell_type": "code",
   "execution_count": 68,
   "id": "7bebb6fd-c9bb-404e-8685-69afc8dcf6ef",
   "metadata": {
    "execution": {
     "iopub.execute_input": "2025-07-29T20:30:37.570513Z",
     "iopub.status.busy": "2025-07-29T20:30:37.569825Z",
     "iopub.status.idle": "2025-07-29T20:30:37.602978Z",
     "shell.execute_reply": "2025-07-29T20:30:37.602506Z",
     "shell.execute_reply.started": "2025-07-29T20:30:37.570466Z"
    }
   },
   "outputs": [
    {
     "data": {
      "text/plain": [
       "array([  1,   2,   3,   4,   5,   6,   7,   8,   9,  10,  11,  12,  13,\n",
       "        14,  15,  16,  17,  18,  19,  20,  21,  22,  23,  24,  25,  26,\n",
       "        27,  28,  29,  30,  31,  32,  33,  34,  35,  36,  37,  38,  39,\n",
       "        40,  41,  42,  43,  44,  45,  46,  47,  48,  49,  50,  51,  52,\n",
       "        53,  54,  55,  56,  57,  58,  59,  60,  61,  62,  63,  64,  65,\n",
       "        66,  67,  68,  69,  70,  71,  72,  73,  74,  75,  76,  77,  78,\n",
       "        79,  80,  81,  82,  83,  84,  85,  86,  87,  88,  89,  90,  91,\n",
       "        92,  93,  94,  95,  96,  97,  98,  99, 100, 101, 102, 103, 104,\n",
       "       105, 106, 107])"
      ]
     },
     "execution_count": 68,
     "metadata": {},
     "output_type": "execute_result"
    }
   ],
   "source": [
    "tess_obs.Sector.unique()"
   ]
  },
  {
   "cell_type": "code",
   "execution_count": 69,
   "id": "ac7453a9-9311-49dc-a2ba-c4c1839c5c77",
   "metadata": {
    "execution": {
     "iopub.execute_input": "2025-07-29T20:30:39.578563Z",
     "iopub.status.busy": "2025-07-29T20:30:39.577869Z",
     "iopub.status.idle": "2025-07-29T20:30:39.615512Z",
     "shell.execute_reply": "2025-07-29T20:30:39.615110Z",
     "shell.execute_reply.started": "2025-07-29T20:30:39.578509Z"
    }
   },
   "outputs": [
    {
     "data": {
      "text/html": [
       "<div>\n",
       "<style scoped>\n",
       "    .dataframe tbody tr th:only-of-type {\n",
       "        vertical-align: middle;\n",
       "    }\n",
       "\n",
       "    .dataframe tbody tr th {\n",
       "        vertical-align: top;\n",
       "    }\n",
       "\n",
       "    .dataframe thead th {\n",
       "        text-align: right;\n",
       "    }\n",
       "</style>\n",
       "<table border=\"1\" class=\"dataframe\">\n",
       "  <thead>\n",
       "    <tr style=\"text-align: right;\">\n",
       "      <th></th>\n",
       "      <th>Sector</th>\n",
       "      <th>Camera</th>\n",
       "      <th>CCD</th>\n",
       "      <th>targ_0001</th>\n",
       "      <th>targ_0002</th>\n",
       "      <th>targ_0003</th>\n",
       "      <th>targ_0004</th>\n",
       "      <th>targ_0005</th>\n",
       "      <th>targ_0006</th>\n",
       "      <th>targ_0007</th>\n",
       "      <th>...</th>\n",
       "      <th>targ_1452</th>\n",
       "      <th>targ_1453</th>\n",
       "      <th>targ_1454</th>\n",
       "      <th>targ_1455</th>\n",
       "      <th>targ_1456</th>\n",
       "      <th>targ_1457</th>\n",
       "      <th>targ_1458</th>\n",
       "      <th>targ_1459</th>\n",
       "      <th>targ_1460</th>\n",
       "      <th>targ_1461</th>\n",
       "    </tr>\n",
       "  </thead>\n",
       "  <tbody>\n",
       "  </tbody>\n",
       "</table>\n",
       "<p>0 rows × 1464 columns</p>\n",
       "</div>"
      ],
      "text/plain": [
       "Empty DataFrame\n",
       "Columns: [Sector, Camera, CCD, targ_0001, targ_0002, targ_0003, targ_0004, targ_0005, targ_0006, targ_0007, targ_0008, targ_0009, targ_0010, targ_0011, targ_0012, targ_0013, targ_0014, targ_0015, targ_0016, targ_0017, targ_0018, targ_0019, targ_0020, targ_0021, targ_0022, targ_0023, targ_0024, targ_0025, targ_0026, targ_0027, targ_0028, targ_0029, targ_0030, targ_0031, targ_0032, targ_0033, targ_0034, targ_0035, targ_0036, targ_0037, targ_0038, targ_0039, targ_0040, targ_0041, targ_0042, targ_0043, targ_0044, targ_0045, targ_0046, targ_0047, targ_0048, targ_0049, targ_0050, targ_0051, targ_0052, targ_0053, targ_0054, targ_0055, targ_0056, targ_0057, targ_0058, targ_0059, targ_0060, targ_0061, targ_0062, targ_0063, targ_0064, targ_0065, targ_0066, targ_0067, targ_0068, targ_0069, targ_0070, targ_0071, targ_0072, targ_0073, targ_0074, targ_0075, targ_0076, targ_0077, targ_0078, targ_0079, targ_0080, targ_0081, targ_0082, targ_0083, targ_0084, targ_0085, targ_0086, targ_0087, targ_0088, targ_0089, targ_0090, targ_0091, targ_0092, targ_0093, targ_0094, targ_0095, targ_0096, targ_0097, ...]\n",
       "Index: []\n",
       "\n",
       "[0 rows x 1464 columns]"
      ]
     },
     "execution_count": 69,
     "metadata": {},
     "output_type": "execute_result"
    }
   ],
   "source": [
    "tess_obs[np.any(tess_obs.iloc[:, 3:].values, axis=1) & (tess_obs.Sector.values > 92)]"
   ]
  }
 ],
 "metadata": {
  "kernelspec": {
   "display_name": "TESS Asteroids",
   "language": "python",
   "name": "tess-asteroids"
  },
  "language_info": {
   "codemirror_mode": {
    "name": "ipython",
    "version": 3
   },
   "file_extension": ".py",
   "mimetype": "text/x-python",
   "name": "python",
   "nbconvert_exporter": "python",
   "pygments_lexer": "ipython3",
   "version": "3.10.17"
  }
 },
 "nbformat": 4,
 "nbformat_minor": 5
}
